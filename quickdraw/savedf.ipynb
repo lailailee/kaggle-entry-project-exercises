{
 "cells": [
  {
   "cell_type": "code",
   "execution_count": 788,
   "metadata": {},
   "outputs": [
    {
     "data": {
      "text/plain": [
       "'/lailailee/_share/notebook'"
      ]
     },
     "execution_count": 788,
     "metadata": {},
     "output_type": "execute_result"
    }
   ],
   "source": [
    "!pwd"
   ]
  },
  {
   "cell_type": "code",
   "execution_count": 789,
   "metadata": {},
   "outputs": [
    {
     "name": "stdout",
     "output_type": "stream",
     "text": [
      "\u001b[0m\u001b[01;34mdeepshare_playground_series2\u001b[0m/  \u001b[01;34mquickdraw\u001b[0m/          \u001b[01;34mtest\u001b[0m/     \u001b[01;34mtool\u001b[0m/\n",
      "\u001b[01;34mdigital_image\u001b[0m/                 \u001b[01;34mspaceship-titanic\u001b[0m/  \u001b[01;34mtitanic\u001b[0m/\n"
     ]
    }
   ],
   "source": [
    "!ls"
   ]
  },
  {
   "cell_type": "code",
   "execution_count": null,
   "metadata": {},
   "outputs": [],
   "source": [
    "main_path = \"/lailailee/_share/notebook/quickdraw/\"\n",
    "train_simplified_path = main_path + \"train_simplified/\""
   ]
  },
  {
   "cell_type": "code",
   "execution_count": 790,
   "metadata": {},
   "outputs": [],
   "source": [
    "import os,sys,codecs,glob\n",
    "import numpy as np\n",
    "import pandas as pd\n",
    "import cv2\n",
    "import timm\n",
    "\n",
    "from sklearn.preprocessing import LabelEncoder\n",
    "from sklearn.model_selection import train_test_split"
   ]
  },
  {
   "cell_type": "code",
   "execution_count": null,
   "metadata": {},
   "outputs": [],
   "source": [
    "# 读取单个csv文件\n",
    "def read_df(path,nrows):\n",
    "  print(\"Reading...\",path)\n",
    "  if nrows.isdigit():\n",
    "    return pd.read_csv(path,nrows=int(nrows),parse_dates=['timestamp'])\n",
    "  else:\n",
    "    return pd.read_csv(path,parse_dates=['timestamp'])\n",
    "  \n",
    "\n",
    "# 读取多个csv文件\n",
    "def contcat_df(paths,nrows):\n",
    "  dfs=[]\n",
    "  for path in paths:\n",
    "    dfs.append(read_df)\n",
    "  return pd.concat(dfs,axis=0,ignore_index=True)\n",
    "\n",
    "def main():\n",
    "  # if not os.path.exists(\"\")\n",
    "  CLASSES_CSV=glob.glob(train_simplified_path+\"*.csv\")\n",
    "  CLASSES=[x.split('/')[-1][:-4] for x in CLASSES_CSV]\n",
    "  \n",
    "  print(\"Reading data...\")\n",
    "  df = contcat_df(CLASSES_CSV,number)\n",
    "  \n",
    "    \n",
    "        "
   ]
  },
  {
   "cell_type": "code",
   "execution_count": null,
   "metadata": {},
   "outputs": [],
   "source": []
  },
  {
   "cell_type": "code",
   "execution_count": null,
   "metadata": {},
   "outputs": [],
   "source": []
  },
  {
   "cell_type": "code",
   "execution_count": null,
   "metadata": {},
   "outputs": [],
   "source": []
  }
 ],
 "metadata": {
  "kernelspec": {
   "display_name": "Python 3 (ipykernel)",
   "language": "python",
   "name": "python3"
  },
  "language_info": {
   "codemirror_mode": {
    "name": "ipython",
    "version": 3
   },
   "file_extension": ".py",
   "mimetype": "text/x-python",
   "name": "python",
   "nbconvert_exporter": "python",
   "pygments_lexer": "ipython3",
   "version": "3.10.12"
  },
  "orig_nbformat": 4
 },
 "nbformat": 4,
 "nbformat_minor": 2
}
